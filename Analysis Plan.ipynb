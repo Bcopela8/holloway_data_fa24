{
 "cells": [
  {
   "cell_type": "markdown",
   "id": "80d6de28-8097-4453-bdaa-2928ce4633bb",
   "metadata": {},
   "source": [
    "A lot of the work I am doing with my data I cannot necessarily duplicate here as it includes sifting through Census Data Documentation. Specifically, the headings to my categories (as seen in the data in hand assignment) are in a specific organizational labelling that I need their documentation (which I have downloaded) in order to understand. I am going througfh column by column and organizing what data I need and if I do not need it, I add it to a list to be removed from the dataframe. If it is one of the data sets that I need, I am adding it to a list with an appropriate renaming convention to better tidy the dataframe. When I am done, I will have each state in a row with the corresponding educational attainmnent for a bachelors degree or higher, which is how I am measuring education, as a percentage in the column beside it. This data will then be pulled into an outside source (have not decided between the maps tools yet) to create a graphic map of the united states that demonstrates the data. all that is left is to place them side by side against the election results for the corresponding years and see what we get! Since my data goes back to 2010 this is taking some time, and I am unsure if I will utilize all of it yet.\n",
    "\n",
    "Since that process is primarily done first with the documentation and then in code for all of those csv files, there is not a lot to show in a jupyter notebook document until I have the data structure organized and can then tidy it in a notebook to place all the graphics side by side! I am documenting this process in a notes document that I will upload with the final project!\n",
    "\n",
    "Hopefully that is enough insight to better understand my plan!"
   ]
  }
 ],
 "metadata": {
  "kernelspec": {
   "display_name": "Python 3 (ipykernel)",
   "language": "python",
   "name": "python3"
  },
  "language_info": {
   "codemirror_mode": {
    "name": "ipython",
    "version": 3
   },
   "file_extension": ".py",
   "mimetype": "text/x-python",
   "name": "python",
   "nbconvert_exporter": "python",
   "pygments_lexer": "ipython3",
   "version": "3.12.4"
  }
 },
 "nbformat": 4,
 "nbformat_minor": 5
}
