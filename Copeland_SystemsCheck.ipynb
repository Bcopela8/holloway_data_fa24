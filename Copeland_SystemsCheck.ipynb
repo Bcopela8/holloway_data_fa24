{
 "cells": [
  {
   "cell_type": "markdown",
   "id": "b590b5d6-3ce2-4465-8c29-9d08ec377729",
   "metadata": {},
   "source": [
    "# Systems Check\n",
    "## Ash S. Copeland (Holloway)\n",
    "### 8/22/2024\n",
    "\n",
    "*In this class,* I would like to learn more about data analysis within Python. I have decent experience with older versions of python, and am interested to see how the syntax has changed from previous versions. **I hope to gain the following:**\n",
    "\n",
    "1. Gain experience with newer python syntax\n",
    "2. Gain experience in Anaconda for personal Artifical Inteligence ventures\n",
    "\n",
    "Here is a picture of a frog! Because why not.\n",
    "![Picture of a frog.](https://cdn.mos.cms.futurecdn.net/39CUYMP8vJqHAYGVzUghBX-1200-80.jpg)"
   ]
  },
  {
   "cell_type": "code",
   "execution_count": null,
   "id": "0a9dfd09-96f4-40ff-801e-ed6f2821cc10",
   "metadata": {},
   "outputs": [],
   "source": []
  }
 ],
 "metadata": {
  "kernelspec": {
   "display_name": "Python 3 (ipykernel)",
   "language": "python",
   "name": "python3"
  },
  "language_info": {
   "codemirror_mode": {
    "name": "ipython",
    "version": 3
   },
   "file_extension": ".py",
   "mimetype": "text/x-python",
   "name": "python",
   "nbconvert_exporter": "python",
   "pygments_lexer": "ipython3",
   "version": "3.12.4"
  }
 },
 "nbformat": 4,
 "nbformat_minor": 5
}
