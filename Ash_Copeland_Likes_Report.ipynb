{
 "cells": [
  {
   "cell_type": "markdown",
   "id": "4eee9d5c-d15b-4bd8-9038-a192d9e07c27",
   "metadata": {},
   "source": [
    "# Likes Report\n",
    "## Ash S. Copeland (Holloway)\n",
    "### 9/12/2024\n",
    "\n",
    "The data in this report is downloaded from Instagram, sourced via standard collection practices on my own personal Instagram account. This data was created in order to track all user interaction accross the platform for both advertising/marketing and general activity archives. This data can be used to show relevant advertisements to the user and to solve future issues utilizing the archived data as a reference for activity by Instagram's support and development team.\n",
    "\n",
    "This data can be considered both reliable and unreliable. It is reliable because it stores all activity data without bias or exclusion of data. It is unreliable due to its inability to compound all user data in one account. For instance, I often use multiple different accounts for my different interests, and therefore the data is splintered and no longer complete as it would be for a user with only a single account.\n",
    "\n",
    "Before seeing the finalized and tidy data, it is important to first view the plain data. We acomplish this by simply opening the json file in which the data is stored. In order to accomplish this task, we must first begin by importing the necessary code in order to both interpret the json file and create a useful dataframe out of it. We begin with importing **JSON** and **PANDAS** below:"
   ]
  },
  {
   "cell_type": "code",
   "execution_count": 32,
   "id": "48fef1ba-280c-466e-950b-b98ee58de9f6",
   "metadata": {},
   "outputs": [],
   "source": [
    "import json\n",
    "import pandas as pd"
   ]
  },
  {
   "cell_type": "markdown",
   "id": "9bdfcb9d-6187-4586-8d26-b6788a647def",
   "metadata": {},
   "source": [
    "Now that these systems are imported correctly, we can begin opening the plain data file into the notebook!"
   ]
  },
  {
   "cell_type": "code",
   "execution_count": 33,
   "id": "867dd009-d235-45f0-8ffa-ebd9dc6260c7",
   "metadata": {},
   "outputs": [],
   "source": [
    "with open('liked_posts.json') as L:\n",
    "    likes_raw = json.load(L)"
   ]
  },
  {
   "cell_type": "markdown",
   "id": "0a76e81c-4cbd-4d19-bf66-3bf5cb8ce4c8",
   "metadata": {},
   "source": [
    "And done! the data should now be added to the notebook and we can begin working with it. We can confirm this by viewing the raw data below:"
   ]
  },
  {
   "cell_type": "markdown",
   "id": "56e11d68-6d29-4a3c-b221-6dc8c686a134",
   "metadata": {},
   "source": [
    "*[Data Display Removed for Privacy Reasons]*"
   ]
  },
  {
   "cell_type": "markdown",
   "id": "f472cd65-3c6d-4aa4-ac8a-9491410e3dc5",
   "metadata": {},
   "source": [
    "Next we can use the \".keys()\" function in order to see what further data may exist, and then utilize that to create a dataframe."
   ]
  },
  {
   "cell_type": "code",
   "execution_count": 34,
   "id": "e9b24498-2b0d-4088-abb4-7cffb7181107",
   "metadata": {},
   "outputs": [
    {
     "data": {
      "text/plain": [
       "dict_keys(['likes_media_likes'])"
      ]
     },
     "execution_count": 34,
     "metadata": {},
     "output_type": "execute_result"
    }
   ],
   "source": [
    "likes_raw.keys()"
   ]
  },
  {
   "cell_type": "code",
   "execution_count": 35,
   "id": "9a8976b9-6a35-4dbb-86d5-eda98bbf69c8",
   "metadata": {},
   "outputs": [
    {
     "data": {
      "text/html": [
       "<div>\n",
       "<style scoped>\n",
       "    .dataframe tbody tr th:only-of-type {\n",
       "        vertical-align: middle;\n",
       "    }\n",
       "\n",
       "    .dataframe tbody tr th {\n",
       "        vertical-align: top;\n",
       "    }\n",
       "\n",
       "    .dataframe thead th {\n",
       "        text-align: right;\n",
       "    }\n",
       "</style>\n",
       "<table border=\"1\" class=\"dataframe\">\n",
       "  <thead>\n",
       "    <tr style=\"text-align: right;\">\n",
       "      <th></th>\n",
       "      <th>title</th>\n",
       "      <th>string_list_data</th>\n",
       "    </tr>\n",
       "  </thead>\n",
       "  <tbody>\n",
       "    <tr>\n",
       "      <th>0</th>\n",
       "      <td>bazarnov3d</td>\n",
       "      <td>[{'href': 'https://www.instagram.com/reel/C-V2...</td>\n",
       "    </tr>\n",
       "    <tr>\n",
       "      <th>1</th>\n",
       "      <td>sovjetanimals</td>\n",
       "      <td>[{'href': 'https://www.instagram.com/reel/C-lU...</td>\n",
       "    </tr>\n",
       "    <tr>\n",
       "      <th>2</th>\n",
       "      <td>alt.overload</td>\n",
       "      <td>[{'href': 'https://www.instagram.com/p/C_Loucx...</td>\n",
       "    </tr>\n",
       "    <tr>\n",
       "      <th>3</th>\n",
       "      <td>psychological</td>\n",
       "      <td>[{'href': 'https://www.instagram.com/reel/C_Js...</td>\n",
       "    </tr>\n",
       "    <tr>\n",
       "      <th>4</th>\n",
       "      <td>the_frog_mage</td>\n",
       "      <td>[{'href': 'https://www.instagram.com/p/C-OQAT2...</td>\n",
       "    </tr>\n",
       "    <tr>\n",
       "      <th>...</th>\n",
       "      <td>...</td>\n",
       "      <td>...</td>\n",
       "    </tr>\n",
       "    <tr>\n",
       "      <th>1868</th>\n",
       "      <td>frog_paradise</td>\n",
       "      <td>[{'href': 'https://www.instagram.com/reel/CwgG...</td>\n",
       "    </tr>\n",
       "    <tr>\n",
       "      <th>1869</th>\n",
       "      <td>westbrouck</td>\n",
       "      <td>[{'href': 'https://www.instagram.com/reel/Cwla...</td>\n",
       "    </tr>\n",
       "    <tr>\n",
       "      <th>1870</th>\n",
       "      <td>meowstershots</td>\n",
       "      <td>[{'href': 'https://www.instagram.com/reel/Cu6B...</td>\n",
       "    </tr>\n",
       "    <tr>\n",
       "      <th>1871</th>\n",
       "      <td>giuseppes.crabapples</td>\n",
       "      <td>[{'href': 'https://www.instagram.com/p/CwYWA63...</td>\n",
       "    </tr>\n",
       "    <tr>\n",
       "      <th>1872</th>\n",
       "      <td>__elfie___</td>\n",
       "      <td>[{'href': 'https://www.instagram.com/p/CwjoewN...</td>\n",
       "    </tr>\n",
       "  </tbody>\n",
       "</table>\n",
       "<p>1873 rows × 2 columns</p>\n",
       "</div>"
      ],
      "text/plain": [
       "                     title                                   string_list_data\n",
       "0               bazarnov3d  [{'href': 'https://www.instagram.com/reel/C-V2...\n",
       "1            sovjetanimals  [{'href': 'https://www.instagram.com/reel/C-lU...\n",
       "2             alt.overload  [{'href': 'https://www.instagram.com/p/C_Loucx...\n",
       "3            psychological  [{'href': 'https://www.instagram.com/reel/C_Js...\n",
       "4            the_frog_mage  [{'href': 'https://www.instagram.com/p/C-OQAT2...\n",
       "...                    ...                                                ...\n",
       "1868         frog_paradise  [{'href': 'https://www.instagram.com/reel/CwgG...\n",
       "1869            westbrouck  [{'href': 'https://www.instagram.com/reel/Cwla...\n",
       "1870         meowstershots  [{'href': 'https://www.instagram.com/reel/Cu6B...\n",
       "1871  giuseppes.crabapples  [{'href': 'https://www.instagram.com/p/CwYWA63...\n",
       "1872            __elfie___  [{'href': 'https://www.instagram.com/p/CwjoewN...\n",
       "\n",
       "[1873 rows x 2 columns]"
      ]
     },
     "execution_count": 35,
     "metadata": {},
     "output_type": "execute_result"
    }
   ],
   "source": [
    "likes_df_raw = pd.DataFrame(likes_raw['likes_media_likes'])\n",
    "likes_df_raw"
   ]
  },
  {
   "cell_type": "markdown",
   "id": "a822d7d0-e82e-44d0-a6fd-7745c3a67866",
   "metadata": {},
   "source": [
    "And here it is! our raw dataframe. It is not quite tidy, and is missing some data that may be helpful in understanding just what we are looking at. The first addition we will make is a timestamp in order to know when each of these likes occured."
   ]
  },
  {
   "cell_type": "code",
   "execution_count": 36,
   "id": "f00eef06-84a3-4af8-aa82-be2d0d4a9fd0",
   "metadata": {},
   "outputs": [
    {
     "data": {
      "text/plain": [
       "[{'href': 'https://www.instagram.com/p/C_LoucxpGQc/',\n",
       "  'value': 'ð\\x9f\\x91\\x8d',\n",
       "  'timestamp': 1724844571}]"
      ]
     },
     "execution_count": 36,
     "metadata": {},
     "output_type": "execute_result"
    }
   ],
   "source": [
    "likes_df_raw['string_list_data'].iloc[2]"
   ]
  },
  {
   "cell_type": "markdown",
   "id": "4cf6defd-864e-41d1-9289-2b1df77d7c35",
   "metadata": {},
   "source": [
    "Now that we've located where the timestamp data is, we need to extract it into a usable form to then be seperated and added to the dataframe. We begin that with the following:"
   ]
  },
  {
   "cell_type": "code",
   "execution_count": 37,
   "id": "fc2b8276-8980-410d-8519-86a1fd541282",
   "metadata": {},
   "outputs": [],
   "source": [
    "string_list_data = [x['string_list_data'][0] for x in likes_raw['likes_media_likes']]"
   ]
  },
  {
   "cell_type": "markdown",
   "id": "75ae2402-7587-4c3d-b856-e1db2e8e6099",
   "metadata": {},
   "source": [
    "*[Data Display Removed for Privacy Reasons]*"
   ]
  },
  {
   "cell_type": "code",
   "execution_count": 38,
   "id": "9c10f252-364a-42a7-8ae6-4dca73e02c38",
   "metadata": {},
   "outputs": [
    {
     "data": {
      "text/html": [
       "<div>\n",
       "<style scoped>\n",
       "    .dataframe tbody tr th:only-of-type {\n",
       "        vertical-align: middle;\n",
       "    }\n",
       "\n",
       "    .dataframe tbody tr th {\n",
       "        vertical-align: top;\n",
       "    }\n",
       "\n",
       "    .dataframe thead th {\n",
       "        text-align: right;\n",
       "    }\n",
       "</style>\n",
       "<table border=\"1\" class=\"dataframe\">\n",
       "  <thead>\n",
       "    <tr style=\"text-align: right;\">\n",
       "      <th></th>\n",
       "      <th>href</th>\n",
       "      <th>value</th>\n",
       "      <th>timestamp</th>\n",
       "    </tr>\n",
       "  </thead>\n",
       "  <tbody>\n",
       "    <tr>\n",
       "      <th>0</th>\n",
       "      <td>https://www.instagram.com/reel/C-V2Q8bK5kQ/</td>\n",
       "      <td>ð</td>\n",
       "      <td>1724844609</td>\n",
       "    </tr>\n",
       "    <tr>\n",
       "      <th>1</th>\n",
       "      <td>https://www.instagram.com/reel/C-lUh0Co2re/</td>\n",
       "      <td>ð</td>\n",
       "      <td>1724844599</td>\n",
       "    </tr>\n",
       "    <tr>\n",
       "      <th>2</th>\n",
       "      <td>https://www.instagram.com/p/C_LoucxpGQc/</td>\n",
       "      <td>ð</td>\n",
       "      <td>1724844571</td>\n",
       "    </tr>\n",
       "    <tr>\n",
       "      <th>3</th>\n",
       "      <td>https://www.instagram.com/reel/C_JsxyASJGx/</td>\n",
       "      <td>ð</td>\n",
       "      <td>1724769088</td>\n",
       "    </tr>\n",
       "    <tr>\n",
       "      <th>4</th>\n",
       "      <td>https://www.instagram.com/p/C-OQAT2p_Mq/</td>\n",
       "      <td>ð</td>\n",
       "      <td>1724679492</td>\n",
       "    </tr>\n",
       "    <tr>\n",
       "      <th>...</th>\n",
       "      <td>...</td>\n",
       "      <td>...</td>\n",
       "      <td>...</td>\n",
       "    </tr>\n",
       "    <tr>\n",
       "      <th>1868</th>\n",
       "      <td>https://www.instagram.com/reel/CwgGZ3AsXP-/</td>\n",
       "      <td>ð</td>\n",
       "      <td>1693481378</td>\n",
       "    </tr>\n",
       "    <tr>\n",
       "      <th>1869</th>\n",
       "      <td>https://www.instagram.com/reel/CwlaW30yE39/</td>\n",
       "      <td>ð</td>\n",
       "      <td>1693432936</td>\n",
       "    </tr>\n",
       "    <tr>\n",
       "      <th>1870</th>\n",
       "      <td>https://www.instagram.com/reel/Cu6BmUZI3i3/</td>\n",
       "      <td>ð</td>\n",
       "      <td>1693432900</td>\n",
       "    </tr>\n",
       "    <tr>\n",
       "      <th>1871</th>\n",
       "      <td>https://www.instagram.com/p/CwYWA63pEZD/</td>\n",
       "      <td>ð</td>\n",
       "      <td>1693406733</td>\n",
       "    </tr>\n",
       "    <tr>\n",
       "      <th>1872</th>\n",
       "      <td>https://www.instagram.com/p/CwjoewNyLhI/</td>\n",
       "      <td>ð</td>\n",
       "      <td>1693391861</td>\n",
       "    </tr>\n",
       "  </tbody>\n",
       "</table>\n",
       "<p>1873 rows × 3 columns</p>\n",
       "</div>"
      ],
      "text/plain": [
       "                                             href value   timestamp\n",
       "0     https://www.instagram.com/reel/C-V2Q8bK5kQ/  ð  1724844609\n",
       "1     https://www.instagram.com/reel/C-lUh0Co2re/  ð  1724844599\n",
       "2        https://www.instagram.com/p/C_LoucxpGQc/  ð  1724844571\n",
       "3     https://www.instagram.com/reel/C_JsxyASJGx/  ð  1724769088\n",
       "4        https://www.instagram.com/p/C-OQAT2p_Mq/  ð  1724679492\n",
       "...                                           ...   ...         ...\n",
       "1868  https://www.instagram.com/reel/CwgGZ3AsXP-/  ð  1693481378\n",
       "1869  https://www.instagram.com/reel/CwlaW30yE39/  ð  1693432936\n",
       "1870  https://www.instagram.com/reel/Cu6BmUZI3i3/  ð  1693432900\n",
       "1871     https://www.instagram.com/p/CwYWA63pEZD/  ð  1693406733\n",
       "1872     https://www.instagram.com/p/CwjoewNyLhI/  ð  1693391861\n",
       "\n",
       "[1873 rows x 3 columns]"
      ]
     },
     "execution_count": 38,
     "metadata": {},
     "output_type": "execute_result"
    }
   ],
   "source": [
    "likes_df_timed = pd.DataFrame(string_list_data)\n",
    "likes_df_timed"
   ]
  },
  {
   "cell_type": "markdown",
   "id": "4e8fa383-301d-4ae4-8d0a-94df5bea9b7f",
   "metadata": {},
   "source": [
    "We can now see the timestamp data that we can work with. Next we need to extract it from other data, and compile it back into a summary dataframe with more tidy data."
   ]
  },
  {
   "cell_type": "code",
   "execution_count": 39,
   "id": "955aa49f-ed44-48c0-9ba8-83266eac6c37",
   "metadata": {},
   "outputs": [
    {
     "data": {
      "text/html": [
       "<div>\n",
       "<style scoped>\n",
       "    .dataframe tbody tr th:only-of-type {\n",
       "        vertical-align: middle;\n",
       "    }\n",
       "\n",
       "    .dataframe tbody tr th {\n",
       "        vertical-align: top;\n",
       "    }\n",
       "\n",
       "    .dataframe thead th {\n",
       "        text-align: right;\n",
       "    }\n",
       "</style>\n",
       "<table border=\"1\" class=\"dataframe\">\n",
       "  <thead>\n",
       "    <tr style=\"text-align: right;\">\n",
       "      <th></th>\n",
       "      <th>href</th>\n",
       "      <th>value</th>\n",
       "    </tr>\n",
       "    <tr>\n",
       "      <th>timestamp</th>\n",
       "      <th></th>\n",
       "      <th></th>\n",
       "    </tr>\n",
       "  </thead>\n",
       "  <tbody>\n",
       "    <tr>\n",
       "      <th>1724844609</th>\n",
       "      <td>1</td>\n",
       "      <td>1</td>\n",
       "    </tr>\n",
       "    <tr>\n",
       "      <th>1724844599</th>\n",
       "      <td>1</td>\n",
       "      <td>1</td>\n",
       "    </tr>\n",
       "    <tr>\n",
       "      <th>1724844571</th>\n",
       "      <td>1</td>\n",
       "      <td>1</td>\n",
       "    </tr>\n",
       "    <tr>\n",
       "      <th>1724769088</th>\n",
       "      <td>1</td>\n",
       "      <td>1</td>\n",
       "    </tr>\n",
       "    <tr>\n",
       "      <th>1724679492</th>\n",
       "      <td>1</td>\n",
       "      <td>1</td>\n",
       "    </tr>\n",
       "  </tbody>\n",
       "</table>\n",
       "</div>"
      ],
      "text/plain": [
       "            href  value\n",
       "timestamp              \n",
       "1724844609     1      1\n",
       "1724844599     1      1\n",
       "1724844571     1      1\n",
       "1724769088     1      1\n",
       "1724679492     1      1"
      ]
     },
     "execution_count": 39,
     "metadata": {},
     "output_type": "execute_result"
    }
   ],
   "source": [
    "timestamp = likes_df_timed.groupby('timestamp').count().sort_values('timestamp',ascending = False)\n",
    "timestamp.head()"
   ]
  },
  {
   "cell_type": "code",
   "execution_count": 40,
   "id": "ebfdcee0-daf8-454c-a910-4642322cdcca",
   "metadata": {},
   "outputs": [],
   "source": [
    "likes_df_raw['Timestamp']=likes_df_timed['timestamp']\n",
    "likes_df_raw.Timestamp = likes_df_raw.Timestamp.astype(float)"
   ]
  },
  {
   "cell_type": "code",
   "execution_count": 41,
   "id": "12e30bbb-b891-40d8-966a-d69b90e7deae",
   "metadata": {},
   "outputs": [
    {
     "data": {
      "text/html": [
       "<div>\n",
       "<style scoped>\n",
       "    .dataframe tbody tr th:only-of-type {\n",
       "        vertical-align: middle;\n",
       "    }\n",
       "\n",
       "    .dataframe tbody tr th {\n",
       "        vertical-align: top;\n",
       "    }\n",
       "\n",
       "    .dataframe thead th {\n",
       "        text-align: right;\n",
       "    }\n",
       "</style>\n",
       "<table border=\"1\" class=\"dataframe\">\n",
       "  <thead>\n",
       "    <tr style=\"text-align: right;\">\n",
       "      <th></th>\n",
       "      <th>title</th>\n",
       "      <th>string_list_data</th>\n",
       "      <th>Timestamp</th>\n",
       "    </tr>\n",
       "  </thead>\n",
       "  <tbody>\n",
       "    <tr>\n",
       "      <th>0</th>\n",
       "      <td>bazarnov3d</td>\n",
       "      <td>[{'href': 'https://www.instagram.com/reel/C-V2...</td>\n",
       "      <td>1.724845e+09</td>\n",
       "    </tr>\n",
       "    <tr>\n",
       "      <th>1</th>\n",
       "      <td>sovjetanimals</td>\n",
       "      <td>[{'href': 'https://www.instagram.com/reel/C-lU...</td>\n",
       "      <td>1.724845e+09</td>\n",
       "    </tr>\n",
       "    <tr>\n",
       "      <th>2</th>\n",
       "      <td>alt.overload</td>\n",
       "      <td>[{'href': 'https://www.instagram.com/p/C_Loucx...</td>\n",
       "      <td>1.724845e+09</td>\n",
       "    </tr>\n",
       "    <tr>\n",
       "      <th>3</th>\n",
       "      <td>psychological</td>\n",
       "      <td>[{'href': 'https://www.instagram.com/reel/C_Js...</td>\n",
       "      <td>1.724769e+09</td>\n",
       "    </tr>\n",
       "    <tr>\n",
       "      <th>4</th>\n",
       "      <td>the_frog_mage</td>\n",
       "      <td>[{'href': 'https://www.instagram.com/p/C-OQAT2...</td>\n",
       "      <td>1.724679e+09</td>\n",
       "    </tr>\n",
       "    <tr>\n",
       "      <th>...</th>\n",
       "      <td>...</td>\n",
       "      <td>...</td>\n",
       "      <td>...</td>\n",
       "    </tr>\n",
       "    <tr>\n",
       "      <th>1868</th>\n",
       "      <td>frog_paradise</td>\n",
       "      <td>[{'href': 'https://www.instagram.com/reel/CwgG...</td>\n",
       "      <td>1.693481e+09</td>\n",
       "    </tr>\n",
       "    <tr>\n",
       "      <th>1869</th>\n",
       "      <td>westbrouck</td>\n",
       "      <td>[{'href': 'https://www.instagram.com/reel/Cwla...</td>\n",
       "      <td>1.693433e+09</td>\n",
       "    </tr>\n",
       "    <tr>\n",
       "      <th>1870</th>\n",
       "      <td>meowstershots</td>\n",
       "      <td>[{'href': 'https://www.instagram.com/reel/Cu6B...</td>\n",
       "      <td>1.693433e+09</td>\n",
       "    </tr>\n",
       "    <tr>\n",
       "      <th>1871</th>\n",
       "      <td>giuseppes.crabapples</td>\n",
       "      <td>[{'href': 'https://www.instagram.com/p/CwYWA63...</td>\n",
       "      <td>1.693407e+09</td>\n",
       "    </tr>\n",
       "    <tr>\n",
       "      <th>1872</th>\n",
       "      <td>__elfie___</td>\n",
       "      <td>[{'href': 'https://www.instagram.com/p/CwjoewN...</td>\n",
       "      <td>1.693392e+09</td>\n",
       "    </tr>\n",
       "  </tbody>\n",
       "</table>\n",
       "<p>1873 rows × 3 columns</p>\n",
       "</div>"
      ],
      "text/plain": [
       "                     title                                   string_list_data  \\\n",
       "0               bazarnov3d  [{'href': 'https://www.instagram.com/reel/C-V2...   \n",
       "1            sovjetanimals  [{'href': 'https://www.instagram.com/reel/C-lU...   \n",
       "2             alt.overload  [{'href': 'https://www.instagram.com/p/C_Loucx...   \n",
       "3            psychological  [{'href': 'https://www.instagram.com/reel/C_Js...   \n",
       "4            the_frog_mage  [{'href': 'https://www.instagram.com/p/C-OQAT2...   \n",
       "...                    ...                                                ...   \n",
       "1868         frog_paradise  [{'href': 'https://www.instagram.com/reel/CwgG...   \n",
       "1869            westbrouck  [{'href': 'https://www.instagram.com/reel/Cwla...   \n",
       "1870         meowstershots  [{'href': 'https://www.instagram.com/reel/Cu6B...   \n",
       "1871  giuseppes.crabapples  [{'href': 'https://www.instagram.com/p/CwYWA63...   \n",
       "1872            __elfie___  [{'href': 'https://www.instagram.com/p/CwjoewN...   \n",
       "\n",
       "         Timestamp  \n",
       "0     1.724845e+09  \n",
       "1     1.724845e+09  \n",
       "2     1.724845e+09  \n",
       "3     1.724769e+09  \n",
       "4     1.724679e+09  \n",
       "...            ...  \n",
       "1868  1.693481e+09  \n",
       "1869  1.693433e+09  \n",
       "1870  1.693433e+09  \n",
       "1871  1.693407e+09  \n",
       "1872  1.693392e+09  \n",
       "\n",
       "[1873 rows x 3 columns]"
      ]
     },
     "execution_count": 41,
     "metadata": {},
     "output_type": "execute_result"
    }
   ],
   "source": [
    "likes_df_raw"
   ]
  },
  {
   "cell_type": "code",
   "execution_count": 42,
   "id": "f4caf011-2fd0-4f57-809e-2e4afd011738",
   "metadata": {},
   "outputs": [
    {
     "data": {
      "text/html": [
       "<div>\n",
       "<style scoped>\n",
       "    .dataframe tbody tr th:only-of-type {\n",
       "        vertical-align: middle;\n",
       "    }\n",
       "\n",
       "    .dataframe tbody tr th {\n",
       "        vertical-align: top;\n",
       "    }\n",
       "\n",
       "    .dataframe thead th {\n",
       "        text-align: right;\n",
       "    }\n",
       "</style>\n",
       "<table border=\"1\" class=\"dataframe\">\n",
       "  <thead>\n",
       "    <tr style=\"text-align: right;\">\n",
       "      <th></th>\n",
       "      <th>title</th>\n",
       "      <th>Timestamp</th>\n",
       "    </tr>\n",
       "  </thead>\n",
       "  <tbody>\n",
       "    <tr>\n",
       "      <th>0</th>\n",
       "      <td>bazarnov3d</td>\n",
       "      <td>1.724845e+09</td>\n",
       "    </tr>\n",
       "    <tr>\n",
       "      <th>1</th>\n",
       "      <td>sovjetanimals</td>\n",
       "      <td>1.724845e+09</td>\n",
       "    </tr>\n",
       "    <tr>\n",
       "      <th>2</th>\n",
       "      <td>alt.overload</td>\n",
       "      <td>1.724845e+09</td>\n",
       "    </tr>\n",
       "    <tr>\n",
       "      <th>3</th>\n",
       "      <td>psychological</td>\n",
       "      <td>1.724769e+09</td>\n",
       "    </tr>\n",
       "    <tr>\n",
       "      <th>4</th>\n",
       "      <td>the_frog_mage</td>\n",
       "      <td>1.724679e+09</td>\n",
       "    </tr>\n",
       "    <tr>\n",
       "      <th>...</th>\n",
       "      <td>...</td>\n",
       "      <td>...</td>\n",
       "    </tr>\n",
       "    <tr>\n",
       "      <th>1868</th>\n",
       "      <td>frog_paradise</td>\n",
       "      <td>1.693481e+09</td>\n",
       "    </tr>\n",
       "    <tr>\n",
       "      <th>1869</th>\n",
       "      <td>westbrouck</td>\n",
       "      <td>1.693433e+09</td>\n",
       "    </tr>\n",
       "    <tr>\n",
       "      <th>1870</th>\n",
       "      <td>meowstershots</td>\n",
       "      <td>1.693433e+09</td>\n",
       "    </tr>\n",
       "    <tr>\n",
       "      <th>1871</th>\n",
       "      <td>giuseppes.crabapples</td>\n",
       "      <td>1.693407e+09</td>\n",
       "    </tr>\n",
       "    <tr>\n",
       "      <th>1872</th>\n",
       "      <td>__elfie___</td>\n",
       "      <td>1.693392e+09</td>\n",
       "    </tr>\n",
       "  </tbody>\n",
       "</table>\n",
       "<p>1873 rows × 2 columns</p>\n",
       "</div>"
      ],
      "text/plain": [
       "                     title     Timestamp\n",
       "0               bazarnov3d  1.724845e+09\n",
       "1            sovjetanimals  1.724845e+09\n",
       "2             alt.overload  1.724845e+09\n",
       "3            psychological  1.724769e+09\n",
       "4            the_frog_mage  1.724679e+09\n",
       "...                    ...           ...\n",
       "1868         frog_paradise  1.693481e+09\n",
       "1869            westbrouck  1.693433e+09\n",
       "1870         meowstershots  1.693433e+09\n",
       "1871  giuseppes.crabapples  1.693407e+09\n",
       "1872            __elfie___  1.693392e+09\n",
       "\n",
       "[1873 rows x 2 columns]"
      ]
     },
     "execution_count": 42,
     "metadata": {},
     "output_type": "execute_result"
    }
   ],
   "source": [
    "likes_df_comp = likes_df_raw.drop(columns = ['string_list_data'])\n",
    "likes_df_comp"
   ]
  },
  {
   "cell_type": "markdown",
   "id": "bc4199b7-75b7-46ff-953d-7953d63208ad",
   "metadata": {},
   "source": [
    "The dropped columns above are redundant since we will be adding the seperated date into new columns for easier access."
   ]
  },
  {
   "cell_type": "code",
   "execution_count": 43,
   "id": "1f13d049-ce01-474b-9de3-4c58bb5206d1",
   "metadata": {},
   "outputs": [
    {
     "data": {
      "text/html": [
       "<div>\n",
       "<style scoped>\n",
       "    .dataframe tbody tr th:only-of-type {\n",
       "        vertical-align: middle;\n",
       "    }\n",
       "\n",
       "    .dataframe tbody tr th {\n",
       "        vertical-align: top;\n",
       "    }\n",
       "\n",
       "    .dataframe thead th {\n",
       "        text-align: right;\n",
       "    }\n",
       "</style>\n",
       "<table border=\"1\" class=\"dataframe\">\n",
       "  <thead>\n",
       "    <tr style=\"text-align: right;\">\n",
       "      <th></th>\n",
       "      <th>title</th>\n",
       "      <th>Timestamp</th>\n",
       "      <th>Content</th>\n",
       "    </tr>\n",
       "  </thead>\n",
       "  <tbody>\n",
       "    <tr>\n",
       "      <th>0</th>\n",
       "      <td>bazarnov3d</td>\n",
       "      <td>1.724845e+09</td>\n",
       "      <td>https://www.instagram.com/reel/C-V2Q8bK5kQ/</td>\n",
       "    </tr>\n",
       "    <tr>\n",
       "      <th>1</th>\n",
       "      <td>sovjetanimals</td>\n",
       "      <td>1.724845e+09</td>\n",
       "      <td>https://www.instagram.com/reel/C-lUh0Co2re/</td>\n",
       "    </tr>\n",
       "    <tr>\n",
       "      <th>2</th>\n",
       "      <td>alt.overload</td>\n",
       "      <td>1.724845e+09</td>\n",
       "      <td>https://www.instagram.com/p/C_LoucxpGQc/</td>\n",
       "    </tr>\n",
       "    <tr>\n",
       "      <th>3</th>\n",
       "      <td>psychological</td>\n",
       "      <td>1.724769e+09</td>\n",
       "      <td>https://www.instagram.com/reel/C_JsxyASJGx/</td>\n",
       "    </tr>\n",
       "    <tr>\n",
       "      <th>4</th>\n",
       "      <td>the_frog_mage</td>\n",
       "      <td>1.724679e+09</td>\n",
       "      <td>https://www.instagram.com/p/C-OQAT2p_Mq/</td>\n",
       "    </tr>\n",
       "    <tr>\n",
       "      <th>...</th>\n",
       "      <td>...</td>\n",
       "      <td>...</td>\n",
       "      <td>...</td>\n",
       "    </tr>\n",
       "    <tr>\n",
       "      <th>1868</th>\n",
       "      <td>frog_paradise</td>\n",
       "      <td>1.693481e+09</td>\n",
       "      <td>https://www.instagram.com/reel/CwgGZ3AsXP-/</td>\n",
       "    </tr>\n",
       "    <tr>\n",
       "      <th>1869</th>\n",
       "      <td>westbrouck</td>\n",
       "      <td>1.693433e+09</td>\n",
       "      <td>https://www.instagram.com/reel/CwlaW30yE39/</td>\n",
       "    </tr>\n",
       "    <tr>\n",
       "      <th>1870</th>\n",
       "      <td>meowstershots</td>\n",
       "      <td>1.693433e+09</td>\n",
       "      <td>https://www.instagram.com/reel/Cu6BmUZI3i3/</td>\n",
       "    </tr>\n",
       "    <tr>\n",
       "      <th>1871</th>\n",
       "      <td>giuseppes.crabapples</td>\n",
       "      <td>1.693407e+09</td>\n",
       "      <td>https://www.instagram.com/p/CwYWA63pEZD/</td>\n",
       "    </tr>\n",
       "    <tr>\n",
       "      <th>1872</th>\n",
       "      <td>__elfie___</td>\n",
       "      <td>1.693392e+09</td>\n",
       "      <td>https://www.instagram.com/p/CwjoewNyLhI/</td>\n",
       "    </tr>\n",
       "  </tbody>\n",
       "</table>\n",
       "<p>1873 rows × 3 columns</p>\n",
       "</div>"
      ],
      "text/plain": [
       "                     title     Timestamp  \\\n",
       "0               bazarnov3d  1.724845e+09   \n",
       "1            sovjetanimals  1.724845e+09   \n",
       "2             alt.overload  1.724845e+09   \n",
       "3            psychological  1.724769e+09   \n",
       "4            the_frog_mage  1.724679e+09   \n",
       "...                    ...           ...   \n",
       "1868         frog_paradise  1.693481e+09   \n",
       "1869            westbrouck  1.693433e+09   \n",
       "1870         meowstershots  1.693433e+09   \n",
       "1871  giuseppes.crabapples  1.693407e+09   \n",
       "1872            __elfie___  1.693392e+09   \n",
       "\n",
       "                                          Content  \n",
       "0     https://www.instagram.com/reel/C-V2Q8bK5kQ/  \n",
       "1     https://www.instagram.com/reel/C-lUh0Co2re/  \n",
       "2        https://www.instagram.com/p/C_LoucxpGQc/  \n",
       "3     https://www.instagram.com/reel/C_JsxyASJGx/  \n",
       "4        https://www.instagram.com/p/C-OQAT2p_Mq/  \n",
       "...                                           ...  \n",
       "1868  https://www.instagram.com/reel/CwgGZ3AsXP-/  \n",
       "1869  https://www.instagram.com/reel/CwlaW30yE39/  \n",
       "1870  https://www.instagram.com/reel/Cu6BmUZI3i3/  \n",
       "1871     https://www.instagram.com/p/CwYWA63pEZD/  \n",
       "1872     https://www.instagram.com/p/CwjoewNyLhI/  \n",
       "\n",
       "[1873 rows x 3 columns]"
      ]
     },
     "execution_count": 43,
     "metadata": {},
     "output_type": "execute_result"
    }
   ],
   "source": [
    "likes_df_comp['Content']=likes_df_timed['href']\n",
    "likes_df_comp"
   ]
  },
  {
   "cell_type": "code",
   "execution_count": 44,
   "id": "88e7c31d-9d73-4c8a-8904-1c4d26dc8f5d",
   "metadata": {},
   "outputs": [
    {
     "data": {
      "text/html": [
       "<div>\n",
       "<style scoped>\n",
       "    .dataframe tbody tr th:only-of-type {\n",
       "        vertical-align: middle;\n",
       "    }\n",
       "\n",
       "    .dataframe tbody tr th {\n",
       "        vertical-align: top;\n",
       "    }\n",
       "\n",
       "    .dataframe thead th {\n",
       "        text-align: right;\n",
       "    }\n",
       "</style>\n",
       "<table border=\"1\" class=\"dataframe\">\n",
       "  <thead>\n",
       "    <tr style=\"text-align: right;\">\n",
       "      <th></th>\n",
       "      <th>Profile</th>\n",
       "      <th>Content</th>\n",
       "    </tr>\n",
       "    <tr>\n",
       "      <th>Timestamp</th>\n",
       "      <th></th>\n",
       "      <th></th>\n",
       "    </tr>\n",
       "  </thead>\n",
       "  <tbody>\n",
       "    <tr>\n",
       "      <th>1.724845e+09</th>\n",
       "      <td>1</td>\n",
       "      <td>1</td>\n",
       "    </tr>\n",
       "    <tr>\n",
       "      <th>1.724845e+09</th>\n",
       "      <td>1</td>\n",
       "      <td>1</td>\n",
       "    </tr>\n",
       "    <tr>\n",
       "      <th>1.724845e+09</th>\n",
       "      <td>1</td>\n",
       "      <td>1</td>\n",
       "    </tr>\n",
       "    <tr>\n",
       "      <th>1.724769e+09</th>\n",
       "      <td>1</td>\n",
       "      <td>1</td>\n",
       "    </tr>\n",
       "    <tr>\n",
       "      <th>1.724679e+09</th>\n",
       "      <td>1</td>\n",
       "      <td>1</td>\n",
       "    </tr>\n",
       "  </tbody>\n",
       "</table>\n",
       "</div>"
      ],
      "text/plain": [
       "              Profile  Content\n",
       "Timestamp                     \n",
       "1.724845e+09        1        1\n",
       "1.724845e+09        1        1\n",
       "1.724845e+09        1        1\n",
       "1.724769e+09        1        1\n",
       "1.724679e+09        1        1"
      ]
     },
     "execution_count": 44,
     "metadata": {},
     "output_type": "execute_result"
    }
   ],
   "source": [
    "likes_df_tidy = likes_df_comp.groupby('Timestamp').count().sort_values('Timestamp',ascending = False)\n",
    "likes_df = likes_df_tidy.rename(columns={'title': 'Profile'})\n",
    "likes_df.head()"
   ]
  },
  {
   "cell_type": "markdown",
   "id": "4dccd49f-5a29-42b4-8561-9d420e685f43",
   "metadata": {},
   "source": [
    "Although minimized, above is the content previously seen organized by timestamp and showing both the profile and the Content in which was liked. It also gives us insight on nuk"
   ]
  },
  {
   "cell_type": "markdown",
   "id": "ffdb603c-3f3e-4867-babb-377dce44652b",
   "metadata": {},
   "source": [
    "Next we build a hypothesis. My Hypothesis is that there is a correlation between the accounts I often like and who I am following. This hypothesis can be broken down as follows:\n",
    "\n",
    "**Theoretical:**\n",
    "I often follow the accounts I give likes to the most\n",
    "\n",
    "**Hypothetical:**\n",
    "Accounts with more than 1 posts that are liked will appear in my followed lists.\n",
    "\n",
    "to prove this, I will be utilizing the \"following.json\" file from my instagram data, as it will show who I am currently following in order to reference that information with the known infomration regarding to liked posts. This will greatly support our effort to test this hypothesis."
   ]
  },
  {
   "cell_type": "code",
   "execution_count": 45,
   "id": "2b567a5e-7095-4cef-9b28-85f61ac22312",
   "metadata": {},
   "outputs": [],
   "source": [
    "with open('following.json') as F:\n",
    "    fol_raw = json.load(F)"
   ]
  },
  {
   "cell_type": "markdown",
   "id": "666285c6-d8b2-4f4a-b2f9-a5fd40060776",
   "metadata": {},
   "source": [
    "With that our new json file is loaded! similarly to the beginning of this report, we can view the raw data below:"
   ]
  },
  {
   "cell_type": "markdown",
   "id": "7edf5858-3a68-405c-8839-5778ddef548c",
   "metadata": {},
   "source": [
    "*[Data Display Removed for Privacy Reasons]*"
   ]
  },
  {
   "cell_type": "markdown",
   "id": "318276bf-1ee7-421b-961f-5f63dcbe9783",
   "metadata": {},
   "source": [
    "Next we can view the keys within that data in order to begin creating a usable dataframe"
   ]
  },
  {
   "cell_type": "code",
   "execution_count": 46,
   "id": "8680394a-bfa2-4a6e-afcd-8cb5ad0b5d67",
   "metadata": {},
   "outputs": [
    {
     "data": {
      "text/plain": [
       "dict_keys(['relationships_following'])"
      ]
     },
     "execution_count": 46,
     "metadata": {},
     "output_type": "execute_result"
    }
   ],
   "source": [
    "fol_raw.keys()"
   ]
  },
  {
   "cell_type": "markdown",
   "id": "3d83c8d0-f37b-4dd8-a570-096d01185146",
   "metadata": {},
   "source": [
    "Since we have seen the \"string_list_data\" subcategory before with our liked posts data, we can reuse an above code cell in order to extract that data specifically."
   ]
  },
  {
   "cell_type": "code",
   "execution_count": 47,
   "id": "abbb5335-dd47-404a-ae2a-cea2d262b067",
   "metadata": {},
   "outputs": [],
   "source": [
    "fol_string_list_data = [x['string_list_data'][0] for x in fol_raw['relationships_following']]"
   ]
  },
  {
   "cell_type": "markdown",
   "id": "53ff1b52-495b-4fd5-a258-5f3fcb0f0d5f",
   "metadata": {},
   "source": [
    "*[Data Display Removed for Privacy Reasons]*"
   ]
  },
  {
   "cell_type": "markdown",
   "id": "9cc838f2-42cb-442e-9843-d643e024639d",
   "metadata": {},
   "source": [
    "and bam! there is our data! now we just need to form it into a dataframe and see what we are working with!"
   ]
  },
  {
   "cell_type": "code",
   "execution_count": 48,
   "id": "269cc09f-f430-4811-aad0-ced28ed105fd",
   "metadata": {},
   "outputs": [
    {
     "data": {
      "text/html": [
       "<div>\n",
       "<style scoped>\n",
       "    .dataframe tbody tr th:only-of-type {\n",
       "        vertical-align: middle;\n",
       "    }\n",
       "\n",
       "    .dataframe tbody tr th {\n",
       "        vertical-align: top;\n",
       "    }\n",
       "\n",
       "    .dataframe thead th {\n",
       "        text-align: right;\n",
       "    }\n",
       "</style>\n",
       "<table border=\"1\" class=\"dataframe\">\n",
       "  <thead>\n",
       "    <tr style=\"text-align: right;\">\n",
       "      <th></th>\n",
       "      <th>href</th>\n",
       "      <th>value</th>\n",
       "      <th>timestamp</th>\n",
       "    </tr>\n",
       "  </thead>\n",
       "  <tbody>\n",
       "    <tr>\n",
       "      <th>0</th>\n",
       "      <td>https://www.instagram.com/eidens.gh0st</td>\n",
       "      <td>eidens.gh0st</td>\n",
       "      <td>1724421091</td>\n",
       "    </tr>\n",
       "    <tr>\n",
       "      <th>1</th>\n",
       "      <td>https://www.instagram.com/dinghuart</td>\n",
       "      <td>dinghuart</td>\n",
       "      <td>1723488296</td>\n",
       "    </tr>\n",
       "    <tr>\n",
       "      <th>2</th>\n",
       "      <td>https://www.instagram.com/duckeycaps</td>\n",
       "      <td>duckeycaps</td>\n",
       "      <td>1723244454</td>\n",
       "    </tr>\n",
       "    <tr>\n",
       "      <th>3</th>\n",
       "      <td>https://www.instagram.com/alive._.sheep</td>\n",
       "      <td>alive._.sheep</td>\n",
       "      <td>1723080311</td>\n",
       "    </tr>\n",
       "    <tr>\n",
       "      <th>4</th>\n",
       "      <td>https://www.instagram.com/sashacolby</td>\n",
       "      <td>sashacolby</td>\n",
       "      <td>1722905964</td>\n",
       "    </tr>\n",
       "    <tr>\n",
       "      <th>...</th>\n",
       "      <td>...</td>\n",
       "      <td>...</td>\n",
       "      <td>...</td>\n",
       "    </tr>\n",
       "    <tr>\n",
       "      <th>95</th>\n",
       "      <td>https://www.instagram.com/bantheman09</td>\n",
       "      <td>bantheman09</td>\n",
       "      <td>1694967675</td>\n",
       "    </tr>\n",
       "    <tr>\n",
       "      <th>96</th>\n",
       "      <td>https://www.instagram.com/xx.f4ll3n.4ng3l.xx</td>\n",
       "      <td>xx.f4ll3n.4ng3l.xx</td>\n",
       "      <td>1694602370</td>\n",
       "    </tr>\n",
       "    <tr>\n",
       "      <th>97</th>\n",
       "      <td>https://www.instagram.com/livvatter</td>\n",
       "      <td>livvatter</td>\n",
       "      <td>1694555676</td>\n",
       "    </tr>\n",
       "    <tr>\n",
       "      <th>98</th>\n",
       "      <td>https://www.instagram.com/the.screaming.bean</td>\n",
       "      <td>the.screaming.bean</td>\n",
       "      <td>1693751390</td>\n",
       "    </tr>\n",
       "    <tr>\n",
       "      <th>99</th>\n",
       "      <td>https://www.instagram.com/xerties_official</td>\n",
       "      <td>xerties_official</td>\n",
       "      <td>1693584869</td>\n",
       "    </tr>\n",
       "  </tbody>\n",
       "</table>\n",
       "<p>100 rows × 3 columns</p>\n",
       "</div>"
      ],
      "text/plain": [
       "                                            href               value  \\\n",
       "0         https://www.instagram.com/eidens.gh0st        eidens.gh0st   \n",
       "1            https://www.instagram.com/dinghuart           dinghuart   \n",
       "2           https://www.instagram.com/duckeycaps          duckeycaps   \n",
       "3        https://www.instagram.com/alive._.sheep       alive._.sheep   \n",
       "4           https://www.instagram.com/sashacolby          sashacolby   \n",
       "..                                           ...                 ...   \n",
       "95         https://www.instagram.com/bantheman09         bantheman09   \n",
       "96  https://www.instagram.com/xx.f4ll3n.4ng3l.xx  xx.f4ll3n.4ng3l.xx   \n",
       "97           https://www.instagram.com/livvatter           livvatter   \n",
       "98  https://www.instagram.com/the.screaming.bean  the.screaming.bean   \n",
       "99    https://www.instagram.com/xerties_official    xerties_official   \n",
       "\n",
       "     timestamp  \n",
       "0   1724421091  \n",
       "1   1723488296  \n",
       "2   1723244454  \n",
       "3   1723080311  \n",
       "4   1722905964  \n",
       "..         ...  \n",
       "95  1694967675  \n",
       "96  1694602370  \n",
       "97  1694555676  \n",
       "98  1693751390  \n",
       "99  1693584869  \n",
       "\n",
       "[100 rows x 3 columns]"
      ]
     },
     "execution_count": 48,
     "metadata": {},
     "output_type": "execute_result"
    }
   ],
   "source": [
    "fol_df_raw = pd.DataFrame(fol_string_list_data)\n",
    "fol_df_raw"
   ]
  },
  {
   "cell_type": "markdown",
   "id": "28f9e6e2-1c76-4715-968a-8aa0a61f14aa",
   "metadata": {},
   "source": [
    "Looks like there is a bit more data here than we need. Luckily we can drop that unncecessary column and rename our similar columns to ones before in order to make this data a bit tidier"
   ]
  },
  {
   "cell_type": "code",
   "execution_count": 49,
   "id": "7bab7810-886c-4ac4-a6b0-58724d0c0831",
   "metadata": {},
   "outputs": [
    {
     "data": {
      "text/html": [
       "<div>\n",
       "<style scoped>\n",
       "    .dataframe tbody tr th:only-of-type {\n",
       "        vertical-align: middle;\n",
       "    }\n",
       "\n",
       "    .dataframe tbody tr th {\n",
       "        vertical-align: top;\n",
       "    }\n",
       "\n",
       "    .dataframe thead th {\n",
       "        text-align: right;\n",
       "    }\n",
       "</style>\n",
       "<table border=\"1\" class=\"dataframe\">\n",
       "  <thead>\n",
       "    <tr style=\"text-align: right;\">\n",
       "      <th></th>\n",
       "      <th>Profile</th>\n",
       "      <th>Timestamp</th>\n",
       "    </tr>\n",
       "  </thead>\n",
       "  <tbody>\n",
       "    <tr>\n",
       "      <th>0</th>\n",
       "      <td>eidens.gh0st</td>\n",
       "      <td>1724421091</td>\n",
       "    </tr>\n",
       "    <tr>\n",
       "      <th>1</th>\n",
       "      <td>dinghuart</td>\n",
       "      <td>1723488296</td>\n",
       "    </tr>\n",
       "    <tr>\n",
       "      <th>2</th>\n",
       "      <td>duckeycaps</td>\n",
       "      <td>1723244454</td>\n",
       "    </tr>\n",
       "    <tr>\n",
       "      <th>3</th>\n",
       "      <td>alive._.sheep</td>\n",
       "      <td>1723080311</td>\n",
       "    </tr>\n",
       "    <tr>\n",
       "      <th>4</th>\n",
       "      <td>sashacolby</td>\n",
       "      <td>1722905964</td>\n",
       "    </tr>\n",
       "  </tbody>\n",
       "</table>\n",
       "</div>"
      ],
      "text/plain": [
       "         Profile   Timestamp\n",
       "0   eidens.gh0st  1724421091\n",
       "1      dinghuart  1723488296\n",
       "2     duckeycaps  1723244454\n",
       "3  alive._.sheep  1723080311\n",
       "4     sashacolby  1722905964"
      ]
     },
     "execution_count": 49,
     "metadata": {},
     "output_type": "execute_result"
    }
   ],
   "source": [
    "fol_df_temp_1 = fol_df_raw.drop(columns = ['href'])\n",
    "fol_df_tidy = fol_df_temp_1.rename(columns={'value': 'Profile', 'timestamp': 'Timestamp'})\n",
    "fol_df_tidy.head()"
   ]
  },
  {
   "cell_type": "code",
   "execution_count": 50,
   "id": "d8b7c4db-aa90-45f3-b173-fa9db16ba8df",
   "metadata": {},
   "outputs": [
    {
     "data": {
      "text/html": [
       "<div>\n",
       "<style scoped>\n",
       "    .dataframe tbody tr th:only-of-type {\n",
       "        vertical-align: middle;\n",
       "    }\n",
       "\n",
       "    .dataframe tbody tr th {\n",
       "        vertical-align: top;\n",
       "    }\n",
       "\n",
       "    .dataframe thead th {\n",
       "        text-align: right;\n",
       "    }\n",
       "</style>\n",
       "<table border=\"1\" class=\"dataframe\">\n",
       "  <thead>\n",
       "    <tr style=\"text-align: right;\">\n",
       "      <th></th>\n",
       "      <th>Profile</th>\n",
       "      <th>Content</th>\n",
       "    </tr>\n",
       "    <tr>\n",
       "      <th>Timestamp</th>\n",
       "      <th></th>\n",
       "      <th></th>\n",
       "    </tr>\n",
       "  </thead>\n",
       "  <tbody>\n",
       "    <tr>\n",
       "      <th>1.724845e+09</th>\n",
       "      <td>1</td>\n",
       "      <td>1</td>\n",
       "    </tr>\n",
       "    <tr>\n",
       "      <th>1.724845e+09</th>\n",
       "      <td>1</td>\n",
       "      <td>1</td>\n",
       "    </tr>\n",
       "    <tr>\n",
       "      <th>1.724845e+09</th>\n",
       "      <td>1</td>\n",
       "      <td>1</td>\n",
       "    </tr>\n",
       "    <tr>\n",
       "      <th>1.724769e+09</th>\n",
       "      <td>1</td>\n",
       "      <td>1</td>\n",
       "    </tr>\n",
       "    <tr>\n",
       "      <th>1.724679e+09</th>\n",
       "      <td>1</td>\n",
       "      <td>1</td>\n",
       "    </tr>\n",
       "  </tbody>\n",
       "</table>\n",
       "</div>"
      ],
      "text/plain": [
       "              Profile  Content\n",
       "Timestamp                     \n",
       "1.724845e+09        1        1\n",
       "1.724845e+09        1        1\n",
       "1.724845e+09        1        1\n",
       "1.724769e+09        1        1\n",
       "1.724679e+09        1        1"
      ]
     },
     "execution_count": 50,
     "metadata": {},
     "output_type": "execute_result"
    }
   ],
   "source": [
    "likes_df.head()"
   ]
  },
  {
   "cell_type": "markdown",
   "id": "eff3e3c6-7c99-48bb-b61f-0e946b0c50a1",
   "metadata": {},
   "source": [
    "and there we go! although it would require some interpreting, it appears both data sets are in and available! You could easily use the timestamp value and the profile when expaned in order to compare the likes held in the content area in order to determine which profiles that recieved likes are followed and which are not! Although I would love to expand further and show that comparison, I am unfortanately at the extent of my knowledge at this time. But I look forward to learning more!"
   ]
  },
  {
   "cell_type": "markdown",
   "id": "31a75059-141c-458c-9c76-ae8e670787b9",
   "metadata": {},
   "source": [
    "The new data represents the time in which profiles were followed. I believe all final dataframes meet tidy standards and can be used to test the hypothesis.\n",
    "\n",
    "I believe the data itself certainly has limitations. Unfortunately, the specificity of the data is often its downfall, as it seems harder to make more general statements with as it only pertains to one user. Having a set of \"median\" reference points would be helpful from instagram. Although other appraches to this data are likely, I am unsure what they are at this point in the class. I believe next steps in this report would include review of the data and creation of complex interactive UI's that allow deeper comparison and exploration of the data gained."
   ]
  },
  {
   "cell_type": "markdown",
   "id": "4204995c-f198-407c-8b32-ec4176269e8b",
   "metadata": {},
   "source": [
    "## References\n",
    "Yes! I used references! Working on the project I was unfortunately absent on workshop day due to food poisoning. So I decided to use the web as a resource to help me when I get stuck! I want to include a list fo all references used and what I used them for!\n",
    "\n",
    "Likes Report by Ryan West\n",
    "https://github.com/rwest21/likes_report/blob/main/Likes_Report2.ipynb\n",
    "Was used in order to gain help with certain functions syntax\n",
    "\n",
    "Likes Report by Corey Heim\n",
    "https://github.com/CHeim123/Likes-Report/blob/main/Insta_Likes.ipynb\n",
    "Was used to see an example of a hypothetical and statistical hypothesis within an assignment\n",
    "\n",
    "Likes Report by Andrew Gudz\n",
    "https://github.com/agudz981/Gudz_Andrew_LikesReport/blob/main/Gudz_Andrew_LikeReport.ipynb\n",
    "Was used as a genral assignment example for style purposes\n",
    "\n",
    "Stack Overflow FAQ\n",
    "https://stackoverflow.com/questions/11346283/renaming-column-names-in-pandas\n",
    "Was used to gain syntax for .rename in pandas dataframes\n",
    "\n",
    "Stack Overfflow FAQ\n",
    "https://stackoverflow.com/questions/33497896/how-can-i-add-a-column-from-one-dataframe-to-another-dataframe\n",
    "Was used to gain syntax for .astype"
   ]
  }
 ],
 "metadata": {
  "kernelspec": {
   "display_name": "Python 3 (ipykernel)",
   "language": "python",
   "name": "python3"
  },
  "language_info": {
   "codemirror_mode": {
    "name": "ipython",
    "version": 3
   },
   "file_extension": ".py",
   "mimetype": "text/x-python",
   "name": "python",
   "nbconvert_exporter": "python",
   "pygments_lexer": "ipython3",
   "version": "3.12.4"
  }
 },
 "nbformat": 4,
 "nbformat_minor": 5
}
